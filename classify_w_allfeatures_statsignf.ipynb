{
 "cells": [
  {
   "cell_type": "code",
   "execution_count": 2,
   "metadata": {},
   "outputs": [],
   "source": [
    "import pandas as pd\n",
    "import matplotlib as plt\n",
    "%matplotlib inline\n",
    "import numpy as np"
   ]
  },
  {
   "cell_type": "markdown",
   "metadata": {},
   "source": [
    "### Build feature vectors and label vectors - ledengre polynomial coeffs and probabilty features"
   ]
  },
  {
   "cell_type": "code",
   "execution_count": 3,
   "metadata": {},
   "outputs": [],
   "source": [
    "all_train_probs = pd.read_csv(\"c:/Users/Rachel/Documents/Grad_Stuff/Dissertation/degree_trials_data/final_probs_7deg.csv\")"
   ]
  },
  {
   "cell_type": "code",
   "execution_count": 4,
   "metadata": {},
   "outputs": [],
   "source": [
    "all_train_data = pd.read_csv(\"c:/Users/Rachel/Documents/Grad_Stuff/Dissertation/degree_trials_data/degree7_train_normspkrmean_legens.csv\")"
   ]
  },
  {
   "cell_type": "code",
   "execution_count": 5,
   "metadata": {},
   "outputs": [],
   "source": [
    "all_train_probs = all_train_probs.rename(index=float, columns={\"English: WH\": \"EnglishWH\", \"English: Y/N\":\"EnglishYN\",\"Mandarin: WH\": \"MandarinWH\", \"Mandarin: Y/N\":'MandarinYN'})"
   ]
  },
  {
   "cell_type": "code",
   "execution_count": 6,
   "metadata": {},
   "outputs": [],
   "source": [
    "prob_features = all_train_probs.drop([\"id\", \"language\",\"questions\"], axis=1)"
   ]
  },
  {
   "cell_type": "code",
   "execution_count": null,
   "metadata": {},
   "outputs": [],
   "source": [
    "prob_features"
   ]
  },
  {
   "cell_type": "code",
   "execution_count": null,
   "metadata": {},
   "outputs": [],
   "source": []
  },
  {
   "cell_type": "code",
   "execution_count": null,
   "metadata": {},
   "outputs": [],
   "source": []
  },
  {
   "cell_type": "code",
   "execution_count": null,
   "metadata": {},
   "outputs": [],
   "source": []
  },
  {
   "cell_type": "code",
   "execution_count": 7,
   "metadata": {},
   "outputs": [],
   "source": [
    "all_train_data = pd.concat([all_train_data, prob_features], axis=1)"
   ]
  },
  {
   "cell_type": "code",
   "execution_count": null,
   "metadata": {},
   "outputs": [],
   "source": [
    "all_train_data"
   ]
  },
  {
   "cell_type": "code",
   "execution_count": 8,
   "metadata": {},
   "outputs": [],
   "source": [
    "coeffs = []\n",
    "\n",
    "for i, row in all_train_data.iterrows():\n",
    "    leges = np.fromstring(row[\"legen_coefs\"][1:-1], dtype=float, sep=\",\")\n",
    "    coeffs.append(leges)\n"
   ]
  },
  {
   "cell_type": "code",
   "execution_count": null,
   "metadata": {},
   "outputs": [],
   "source": [
    "coeffs"
   ]
  },
  {
   "cell_type": "code",
   "execution_count": null,
   "metadata": {},
   "outputs": [],
   "source": [
    "[[f'lg_{n}' for n in range(7)]]"
   ]
  },
  {
   "cell_type": "code",
   "execution_count": 9,
   "metadata": {},
   "outputs": [],
   "source": [
    "####CHANGE DEGREE####range(x)where x is degree\n",
    "df_coeff = pd.DataFrame(coeffs, columns = [f'lg{n}' for n in range(7)])"
   ]
  },
  {
   "cell_type": "code",
   "execution_count": null,
   "metadata": {},
   "outputs": [],
   "source": [
    "df_coeff"
   ]
  },
  {
   "cell_type": "code",
   "execution_count": null,
   "metadata": {},
   "outputs": [],
   "source": [
    "all_train_data"
   ]
  },
  {
   "cell_type": "code",
   "execution_count": null,
   "metadata": {},
   "outputs": [],
   "source": []
  },
  {
   "cell_type": "code",
   "execution_count": 10,
   "metadata": {},
   "outputs": [],
   "source": [
    "###rewrite this at some point, adding in these features just to get rid of them is stupid\n",
    "df_coeff[['language', 'questions']] = all_train_data[['language', 'questions']]"
   ]
  },
  {
   "cell_type": "code",
   "execution_count": 11,
   "metadata": {},
   "outputs": [],
   "source": [
    "df_coeff = pd.concat([df_coeff, prob_features], axis=1)"
   ]
  },
  {
   "cell_type": "code",
   "execution_count": null,
   "metadata": {},
   "outputs": [],
   "source": []
  },
  {
   "cell_type": "code",
   "execution_count": null,
   "metadata": {},
   "outputs": [],
   "source": []
  },
  {
   "cell_type": "code",
   "execution_count": null,
   "metadata": {},
   "outputs": [],
   "source": [
    "#### do not need?  Unless we are counting something?\n",
    "df_coeff_sorted = df_coeff.groupby(['language', 'questions'])\n",
    "\n",
    "df_coeff_sorted.groups\n",
    "\n",
    "df_coeff.columns"
   ]
  },
  {
   "cell_type": "code",
   "execution_count": 12,
   "metadata": {},
   "outputs": [],
   "source": [
    "df_labels = pd.DataFrame({'labels':df_coeff['language'] + \" \" + df_coeff['questions']})"
   ]
  },
  {
   "cell_type": "code",
   "execution_count": null,
   "metadata": {},
   "outputs": [],
   "source": [
    "df_labels"
   ]
  },
  {
   "cell_type": "code",
   "execution_count": 13,
   "metadata": {},
   "outputs": [],
   "source": [
    "df_data = df_coeff.drop(['language', 'questions'], axis=1)"
   ]
  },
  {
   "cell_type": "code",
   "execution_count": null,
   "metadata": {},
   "outputs": [],
   "source": [
    "df_data"
   ]
  },
  {
   "cell_type": "markdown",
   "metadata": {},
   "source": [
    "### And here, we change to language / question subsets, to see if we are doing well"
   ]
  },
  {
   "cell_type": "code",
   "execution_count": null,
   "metadata": {},
   "outputs": [],
   "source": [
    "df_coeff"
   ]
  },
  {
   "cell_type": "code",
   "execution_count": 14,
   "metadata": {},
   "outputs": [],
   "source": [
    "df_lang = df_coeff.drop(['language','questions'], axis=1)"
   ]
  },
  {
   "cell_type": "code",
   "execution_count": 15,
   "metadata": {},
   "outputs": [],
   "source": [
    "lang_labels = df_coeff[\"language\"]"
   ]
  },
  {
   "cell_type": "code",
   "execution_count": null,
   "metadata": {},
   "outputs": [],
   "source": [
    "lang_labels"
   ]
  },
  {
   "cell_type": "code",
   "execution_count": 16,
   "metadata": {},
   "outputs": [],
   "source": [
    "df_ques = df_coeff.drop(['language','questions'], axis=1)"
   ]
  },
  {
   "cell_type": "code",
   "execution_count": 17,
   "metadata": {},
   "outputs": [],
   "source": [
    "ques_labels = df_coeff['questions']"
   ]
  },
  {
   "cell_type": "code",
   "execution_count": null,
   "metadata": {},
   "outputs": [],
   "source": [
    "ques_labels"
   ]
  },
  {
   "cell_type": "markdown",
   "metadata": {},
   "source": [
    "#### add in f0 features"
   ]
  },
  {
   "cell_type": "code",
   "execution_count": null,
   "metadata": {},
   "outputs": [],
   "source": [
    "all_train_data"
   ]
  },
  {
   "cell_type": "code",
   "execution_count": null,
   "metadata": {},
   "outputs": [],
   "source": [
    "### make sure to deal with negative numbers?  or will this not work because of negative numbers?\n",
    "all_f0s = []\n",
    "for i, row in all_train_data.iterrows():\n",
    "    f0s = np.fromstring(row[\"f0final\"][1:-2], dtype=float, sep=\"\\n\")\n",
    "    #print (type((f0s)))\n",
    "    all_f0s.append(f0s)"
   ]
  },
  {
   "cell_type": "code",
   "execution_count": null,
   "metadata": {},
   "outputs": [],
   "source": [
    "print(all_f0s[0])"
   ]
  },
  {
   "cell_type": "code",
   "execution_count": null,
   "metadata": {},
   "outputs": [],
   "source": [
    "maxf0s = []\n",
    "minf0s = []\n",
    "for listf0s in all_f0s:\n",
    "    high = max(listf0s)\n",
    "    low = min(listf0s)\n",
    "    maxf0s.append(high)\n",
    "    minf0s.append(low)\n"
   ]
  },
  {
   "cell_type": "code",
   "execution_count": null,
   "metadata": {},
   "outputs": [],
   "source": [
    "rangef0s = []\n",
    "for i in range(len(maxf0s)):\n",
    "    diff = maxf0s[i] - minf0s[i]\n",
    "    rangef0s.append(diff)\n",
    "print (len(rangef0s))"
   ]
  },
  {
   "cell_type": "code",
   "execution_count": null,
   "metadata": {},
   "outputs": [],
   "source": [
    "df_data = pd.DataFrame({'maxf0s': maxf0s, 'minf0s':minf0s, 'rangef0s':rangef0s})\n",
    "df_lang = pd.DataFrame({'maxf0s': maxf0s, 'minf0s':minf0s, 'rangef0s':rangef0s})\n",
    "df_ques = pd.DataFrame({'maxf0s': maxf0s, 'minf0s':minf0s, 'rangef0s':rangef0s})"
   ]
  },
  {
   "cell_type": "markdown",
   "metadata": {},
   "source": [
    "### Machine learning time!"
   ]
  },
  {
   "cell_type": "code",
   "execution_count": 18,
   "metadata": {},
   "outputs": [],
   "source": [
    "import sklearn"
   ]
  },
  {
   "cell_type": "code",
   "execution_count": 19,
   "metadata": {},
   "outputs": [],
   "source": [
    "from sklearn.model_selection import cross_val_score\n",
    "from sklearn.model_selection import ShuffleSplit\n",
    "from sklearn import svm\n",
    "from sklearn import dummy"
   ]
  },
  {
   "cell_type": "code",
   "execution_count": 20,
   "metadata": {},
   "outputs": [],
   "source": [
    "from sklearn.dummy import DummyClassifier\n",
    "dclf = DummyClassifier()"
   ]
  },
  {
   "cell_type": "markdown",
   "metadata": {},
   "source": [
    "#### following code, amend depending on whether it's 4-way, or lang, ques"
   ]
  },
  {
   "cell_type": "code",
   "execution_count": 24,
   "metadata": {
    "collapsed": true
   },
   "outputs": [
    {
     "data": {
      "text/html": [
       "<div>\n",
       "<style scoped>\n",
       "    .dataframe tbody tr th:only-of-type {\n",
       "        vertical-align: middle;\n",
       "    }\n",
       "\n",
       "    .dataframe tbody tr th {\n",
       "        vertical-align: top;\n",
       "    }\n",
       "\n",
       "    .dataframe thead th {\n",
       "        text-align: right;\n",
       "    }\n",
       "</style>\n",
       "<table border=\"1\" class=\"dataframe\">\n",
       "  <thead>\n",
       "    <tr style=\"text-align: right;\">\n",
       "      <th></th>\n",
       "      <th>labels</th>\n",
       "    </tr>\n",
       "  </thead>\n",
       "  <tbody>\n",
       "    <tr>\n",
       "      <th>0</th>\n",
       "      <td>English WH</td>\n",
       "    </tr>\n",
       "    <tr>\n",
       "      <th>1</th>\n",
       "      <td>English Y/N</td>\n",
       "    </tr>\n",
       "    <tr>\n",
       "      <th>2</th>\n",
       "      <td>English WH</td>\n",
       "    </tr>\n",
       "    <tr>\n",
       "      <th>3</th>\n",
       "      <td>English WH</td>\n",
       "    </tr>\n",
       "    <tr>\n",
       "      <th>4</th>\n",
       "      <td>English WH</td>\n",
       "    </tr>\n",
       "    <tr>\n",
       "      <th>5</th>\n",
       "      <td>English Y/N</td>\n",
       "    </tr>\n",
       "    <tr>\n",
       "      <th>6</th>\n",
       "      <td>English Y/N</td>\n",
       "    </tr>\n",
       "    <tr>\n",
       "      <th>7</th>\n",
       "      <td>English Y/N</td>\n",
       "    </tr>\n",
       "    <tr>\n",
       "      <th>8</th>\n",
       "      <td>English Y/N</td>\n",
       "    </tr>\n",
       "    <tr>\n",
       "      <th>9</th>\n",
       "      <td>English WH</td>\n",
       "    </tr>\n",
       "    <tr>\n",
       "      <th>10</th>\n",
       "      <td>English WH</td>\n",
       "    </tr>\n",
       "    <tr>\n",
       "      <th>11</th>\n",
       "      <td>English WH</td>\n",
       "    </tr>\n",
       "    <tr>\n",
       "      <th>12</th>\n",
       "      <td>English Y/N</td>\n",
       "    </tr>\n",
       "    <tr>\n",
       "      <th>13</th>\n",
       "      <td>English Y/N</td>\n",
       "    </tr>\n",
       "    <tr>\n",
       "      <th>14</th>\n",
       "      <td>English WH</td>\n",
       "    </tr>\n",
       "    <tr>\n",
       "      <th>15</th>\n",
       "      <td>English Y/N</td>\n",
       "    </tr>\n",
       "    <tr>\n",
       "      <th>16</th>\n",
       "      <td>English Y/N</td>\n",
       "    </tr>\n",
       "    <tr>\n",
       "      <th>17</th>\n",
       "      <td>English Y/N</td>\n",
       "    </tr>\n",
       "    <tr>\n",
       "      <th>18</th>\n",
       "      <td>English Y/N</td>\n",
       "    </tr>\n",
       "    <tr>\n",
       "      <th>19</th>\n",
       "      <td>English Y/N</td>\n",
       "    </tr>\n",
       "    <tr>\n",
       "      <th>20</th>\n",
       "      <td>English WH</td>\n",
       "    </tr>\n",
       "    <tr>\n",
       "      <th>21</th>\n",
       "      <td>English WH</td>\n",
       "    </tr>\n",
       "    <tr>\n",
       "      <th>22</th>\n",
       "      <td>English Y/N</td>\n",
       "    </tr>\n",
       "    <tr>\n",
       "      <th>23</th>\n",
       "      <td>English Y/N</td>\n",
       "    </tr>\n",
       "    <tr>\n",
       "      <th>24</th>\n",
       "      <td>English WH</td>\n",
       "    </tr>\n",
       "    <tr>\n",
       "      <th>25</th>\n",
       "      <td>English Y/N</td>\n",
       "    </tr>\n",
       "    <tr>\n",
       "      <th>26</th>\n",
       "      <td>English Y/N</td>\n",
       "    </tr>\n",
       "    <tr>\n",
       "      <th>27</th>\n",
       "      <td>English WH</td>\n",
       "    </tr>\n",
       "    <tr>\n",
       "      <th>28</th>\n",
       "      <td>English Y/N</td>\n",
       "    </tr>\n",
       "    <tr>\n",
       "      <th>29</th>\n",
       "      <td>English WH</td>\n",
       "    </tr>\n",
       "    <tr>\n",
       "      <th>...</th>\n",
       "      <td>...</td>\n",
       "    </tr>\n",
       "    <tr>\n",
       "      <th>1374</th>\n",
       "      <td>Mandarin WH</td>\n",
       "    </tr>\n",
       "    <tr>\n",
       "      <th>1375</th>\n",
       "      <td>Mandarin WH</td>\n",
       "    </tr>\n",
       "    <tr>\n",
       "      <th>1376</th>\n",
       "      <td>Mandarin WH</td>\n",
       "    </tr>\n",
       "    <tr>\n",
       "      <th>1377</th>\n",
       "      <td>Mandarin WH</td>\n",
       "    </tr>\n",
       "    <tr>\n",
       "      <th>1378</th>\n",
       "      <td>Mandarin Y/N</td>\n",
       "    </tr>\n",
       "    <tr>\n",
       "      <th>1379</th>\n",
       "      <td>Mandarin Y/N</td>\n",
       "    </tr>\n",
       "    <tr>\n",
       "      <th>1380</th>\n",
       "      <td>Mandarin Y/N</td>\n",
       "    </tr>\n",
       "    <tr>\n",
       "      <th>1381</th>\n",
       "      <td>Mandarin Y/N</td>\n",
       "    </tr>\n",
       "    <tr>\n",
       "      <th>1382</th>\n",
       "      <td>Mandarin Y/N</td>\n",
       "    </tr>\n",
       "    <tr>\n",
       "      <th>1383</th>\n",
       "      <td>Mandarin Y/N</td>\n",
       "    </tr>\n",
       "    <tr>\n",
       "      <th>1384</th>\n",
       "      <td>Mandarin Y/N</td>\n",
       "    </tr>\n",
       "    <tr>\n",
       "      <th>1385</th>\n",
       "      <td>Mandarin WH</td>\n",
       "    </tr>\n",
       "    <tr>\n",
       "      <th>1386</th>\n",
       "      <td>Mandarin Y/N</td>\n",
       "    </tr>\n",
       "    <tr>\n",
       "      <th>1387</th>\n",
       "      <td>Mandarin WH</td>\n",
       "    </tr>\n",
       "    <tr>\n",
       "      <th>1388</th>\n",
       "      <td>Mandarin WH</td>\n",
       "    </tr>\n",
       "    <tr>\n",
       "      <th>1389</th>\n",
       "      <td>Mandarin WH</td>\n",
       "    </tr>\n",
       "    <tr>\n",
       "      <th>1390</th>\n",
       "      <td>Mandarin WH</td>\n",
       "    </tr>\n",
       "    <tr>\n",
       "      <th>1391</th>\n",
       "      <td>Mandarin WH</td>\n",
       "    </tr>\n",
       "    <tr>\n",
       "      <th>1392</th>\n",
       "      <td>Mandarin WH</td>\n",
       "    </tr>\n",
       "    <tr>\n",
       "      <th>1393</th>\n",
       "      <td>Mandarin Y/N</td>\n",
       "    </tr>\n",
       "    <tr>\n",
       "      <th>1394</th>\n",
       "      <td>Mandarin Y/N</td>\n",
       "    </tr>\n",
       "    <tr>\n",
       "      <th>1395</th>\n",
       "      <td>Mandarin Y/N</td>\n",
       "    </tr>\n",
       "    <tr>\n",
       "      <th>1396</th>\n",
       "      <td>Mandarin WH</td>\n",
       "    </tr>\n",
       "    <tr>\n",
       "      <th>1397</th>\n",
       "      <td>Mandarin Y/N</td>\n",
       "    </tr>\n",
       "    <tr>\n",
       "      <th>1398</th>\n",
       "      <td>Mandarin WH</td>\n",
       "    </tr>\n",
       "    <tr>\n",
       "      <th>1399</th>\n",
       "      <td>Mandarin Y/N</td>\n",
       "    </tr>\n",
       "    <tr>\n",
       "      <th>1400</th>\n",
       "      <td>Mandarin Y/N</td>\n",
       "    </tr>\n",
       "    <tr>\n",
       "      <th>1401</th>\n",
       "      <td>Mandarin Y/N</td>\n",
       "    </tr>\n",
       "    <tr>\n",
       "      <th>1402</th>\n",
       "      <td>Mandarin Y/N</td>\n",
       "    </tr>\n",
       "    <tr>\n",
       "      <th>1403</th>\n",
       "      <td>Mandarin Y/N</td>\n",
       "    </tr>\n",
       "  </tbody>\n",
       "</table>\n",
       "<p>1404 rows × 1 columns</p>\n",
       "</div>"
      ],
      "text/plain": [
       "            labels\n",
       "0       English WH\n",
       "1      English Y/N\n",
       "2       English WH\n",
       "3       English WH\n",
       "4       English WH\n",
       "5      English Y/N\n",
       "6      English Y/N\n",
       "7      English Y/N\n",
       "8      English Y/N\n",
       "9       English WH\n",
       "10      English WH\n",
       "11      English WH\n",
       "12     English Y/N\n",
       "13     English Y/N\n",
       "14      English WH\n",
       "15     English Y/N\n",
       "16     English Y/N\n",
       "17     English Y/N\n",
       "18     English Y/N\n",
       "19     English Y/N\n",
       "20      English WH\n",
       "21      English WH\n",
       "22     English Y/N\n",
       "23     English Y/N\n",
       "24      English WH\n",
       "25     English Y/N\n",
       "26     English Y/N\n",
       "27      English WH\n",
       "28     English Y/N\n",
       "29      English WH\n",
       "...            ...\n",
       "1374   Mandarin WH\n",
       "1375   Mandarin WH\n",
       "1376   Mandarin WH\n",
       "1377   Mandarin WH\n",
       "1378  Mandarin Y/N\n",
       "1379  Mandarin Y/N\n",
       "1380  Mandarin Y/N\n",
       "1381  Mandarin Y/N\n",
       "1382  Mandarin Y/N\n",
       "1383  Mandarin Y/N\n",
       "1384  Mandarin Y/N\n",
       "1385   Mandarin WH\n",
       "1386  Mandarin Y/N\n",
       "1387   Mandarin WH\n",
       "1388   Mandarin WH\n",
       "1389   Mandarin WH\n",
       "1390   Mandarin WH\n",
       "1391   Mandarin WH\n",
       "1392   Mandarin WH\n",
       "1393  Mandarin Y/N\n",
       "1394  Mandarin Y/N\n",
       "1395  Mandarin Y/N\n",
       "1396   Mandarin WH\n",
       "1397  Mandarin Y/N\n",
       "1398   Mandarin WH\n",
       "1399  Mandarin Y/N\n",
       "1400  Mandarin Y/N\n",
       "1401  Mandarin Y/N\n",
       "1402  Mandarin Y/N\n",
       "1403  Mandarin Y/N\n",
       "\n",
       "[1404 rows x 1 columns]"
      ]
     },
     "execution_count": 24,
     "metadata": {},
     "output_type": "execute_result"
    }
   ],
   "source": [
    "df_labels"
   ]
  },
  {
   "cell_type": "code",
   "execution_count": 26,
   "metadata": {
    "scrolled": true
   },
   "outputs": [
    {
     "data": {
      "text/plain": [
       "Mandarin WH     0.287037\n",
       "English WH      0.285613\n",
       "Mandarin Y/N    0.216524\n",
       "English Y/N     0.210826\n",
       "Name: labels, dtype: float64"
      ]
     },
     "execution_count": 26,
     "metadata": {},
     "output_type": "execute_result"
    }
   ],
   "source": [
    "df_labels[\"labels\"].value_counts() /len(df_coeff)"
   ]
  },
  {
   "cell_type": "code",
   "execution_count": 21,
   "metadata": {
    "scrolled": true
   },
   "outputs": [
    {
     "data": {
      "text/plain": [
       "0.24792623802660607"
      ]
     },
     "execution_count": 21,
     "metadata": {},
     "output_type": "execute_result"
    }
   ],
   "source": [
    "baseline_scores = cross_val_score(dclf, df_data, df_labels.values.squeeze(), cv=10)\n",
    "baseline_scores.mean()"
   ]
  },
  {
   "cell_type": "code",
   "execution_count": 28,
   "metadata": {},
   "outputs": [
    {
     "name": "stderr",
     "output_type": "stream",
     "text": [
      "C:\\Users\\Rachel\\AppData\\Local\\Continuum\\Anaconda2\\envs\\py36\\lib\\site-packages\\sklearn\\cross_validation.py:44: DeprecationWarning: This module was deprecated in version 0.18 in favor of the model_selection module into which all the refactored classes and functions are moved. Also note that the interface of the new CV iterators are different from that of this module. This module will be removed in 0.20.\n",
      "  \"This module will be removed in 0.20.\", DeprecationWarning)\n"
     ]
    }
   ],
   "source": [
    "from sklearn.cross_validation import train_test_split\n",
    "from sklearn.svm import LinearSVC\n",
    "from sklearn.linear_model import LogisticRegression\n",
    "from sklearn.naive_bayes import GaussianNB\n",
    "\n",
    "#clf= LogisticRegression()\n",
    "\n",
    "#cv = ShuffleSplit(n_splits=2, test_size=0.3, random_state=0)"
   ]
  },
  {
   "cell_type": "markdown",
   "metadata": {},
   "source": [
    "### Let's do some motherfuckin' GridSearching of parameters"
   ]
  },
  {
   "cell_type": "code",
   "execution_count": null,
   "metadata": {},
   "outputs": [],
   "source": [
    "## NOTE: grid_search is depreciating, will change to model_selection module\n",
    "#param_grid = {'C': [0.001, 0.01, 0.1, 1, 10, 100],\n",
    "#              'gamma': [0.001, 0.01, 0.1, 1, 10, 100]}\n",
    "\n",
    "\n",
    "\n",
    "param_grid = {'C': [0.001, 0.01, 0.1, 1, 10, 100]}\n",
    "\n",
    "from sklearn.grid_search import GridSearchCV\n",
    "#from sklearn.svm import SVC\n",
    "grid_search = GridSearchCV(LinearSVC(), param_grid, cv=10)\n",
    "\n",
    "X_train, X_test, y_train, y_test = train_test_split(df_data, df_labels.values.squeeze(), random_state=0)\n",
    "\n",
    "grid_search.fit(X_train, y_train)\n",
    "\n",
    "print(grid_search.best_params_)\n",
    "print(grid_search.best_score_)"
   ]
  },
  {
   "cell_type": "code",
   "execution_count": null,
   "metadata": {},
   "outputs": [],
   "source": [
    "Not working\n",
    "# X_train, X_test, y_train, y_test = train_test_split(df_data, df_labels, random_state=0)\n",
    "# dclf.fit(X_train, y_train)\n",
    "# basescore = dclf.score(X_test, y_test)\n",
    "# print(basescore)"
   ]
  },
  {
   "cell_type": "code",
   "execution_count": null,
   "metadata": {},
   "outputs": [],
   "source": [
    "print('The scikit-learn version is {}.'.format(sklearn.__version__))"
   ]
  },
  {
   "cell_type": "code",
   "execution_count": 31,
   "metadata": {},
   "outputs": [],
   "source": [
    "clf = LinearSVC(penalty='l2', C=0.01, multi_class= \"ovr\")\n",
    "scores = cross_val_score(clf, df_data, df_labels.values.squeeze(), cv=10)"
   ]
  },
  {
   "cell_type": "code",
   "execution_count": 32,
   "metadata": {
    "scrolled": true
   },
   "outputs": [
    {
     "data": {
      "text/plain": [
       "0.3317117935161109"
      ]
     },
     "execution_count": 32,
     "metadata": {},
     "output_type": "execute_result"
    }
   ],
   "source": [
    "scores.mean()"
   ]
  },
  {
   "cell_type": "code",
   "execution_count": null,
   "metadata": {},
   "outputs": [],
   "source": [
    "cross_val_score?"
   ]
  },
  {
   "cell_type": "code",
   "execution_count": 33,
   "metadata": {
    "collapsed": true
   },
   "outputs": [
    {
     "name": "stderr",
     "output_type": "stream",
     "text": [
      "C:\\Users\\Rachel\\AppData\\Local\\Continuum\\Anaconda2\\envs\\py36\\lib\\site-packages\\sklearn\\utils\\validation.py:526: DataConversionWarning: A column-vector y was passed when a 1d array was expected. Please change the shape of y to (n_samples, ), for example using ravel().\n",
      "  y = column_or_1d(y, warn=True)\n"
     ]
    },
    {
     "name": "stdout",
     "output_type": "stream",
     "text": [
      "0.3418803418803419 ['English WH' 'English WH' 'English WH' 'Mandarin Y/N' 'Mandarin Y/N'\n",
      " 'English WH' 'English WH' 'English WH' 'Mandarin WH' 'English WH'\n",
      " 'Mandarin WH' 'English WH' 'Mandarin Y/N' 'Mandarin WH' 'English WH'\n",
      " 'Mandarin Y/N' 'English WH' 'Mandarin WH' 'English WH' 'Mandarin WH'\n",
      " 'Mandarin Y/N' 'Mandarin WH' 'Mandarin WH' 'English WH' 'English WH'\n",
      " 'English Y/N' 'Mandarin WH' 'English WH' 'English Y/N' 'English WH'\n",
      " 'Mandarin Y/N' 'Mandarin WH' 'English WH' 'Mandarin WH' 'Mandarin WH'\n",
      " 'Mandarin Y/N' 'English WH' 'Mandarin WH' 'English WH' 'Mandarin WH'\n",
      " 'English WH' 'English WH' 'English WH' 'English WH' 'English Y/N'\n",
      " 'Mandarin WH' 'Mandarin Y/N' 'English WH' 'Mandarin WH' 'Mandarin WH'\n",
      " 'English WH' 'Mandarin WH' 'Mandarin WH' 'English WH' 'English WH'\n",
      " 'English WH' 'Mandarin Y/N' 'English WH' 'Mandarin WH' 'Mandarin WH'\n",
      " 'Mandarin WH' 'English WH' 'Mandarin WH' 'English WH' 'English WH'\n",
      " 'English WH' 'Mandarin WH' 'Mandarin WH' 'English WH' 'Mandarin WH'\n",
      " 'Mandarin WH' 'English Y/N' 'English WH' 'Mandarin WH' 'Mandarin WH'\n",
      " 'English WH' 'Mandarin WH' 'English WH' 'Mandarin WH' 'Mandarin Y/N'\n",
      " 'English WH' 'Mandarin WH' 'Mandarin WH' 'English WH' 'Mandarin Y/N'\n",
      " 'English WH' 'Mandarin WH' 'English WH' 'English WH' 'English WH'\n",
      " 'Mandarin Y/N' 'Mandarin WH' 'English WH' 'English WH' 'English WH'\n",
      " 'Mandarin WH' 'English WH' 'Mandarin WH' 'English WH' 'Mandarin WH'\n",
      " 'Mandarin WH' 'Mandarin WH' 'English WH' 'English WH' 'English WH'\n",
      " 'Mandarin Y/N' 'English WH' 'English WH' 'Mandarin Y/N' 'English WH'\n",
      " 'English WH' 'Mandarin WH' 'Mandarin WH' 'English WH' 'English WH'\n",
      " 'Mandarin WH' 'Mandarin Y/N' 'English WH' 'English Y/N' 'Mandarin WH'\n",
      " 'Mandarin WH' 'Mandarin Y/N' 'English WH' 'English Y/N' 'Mandarin WH'\n",
      " 'Mandarin WH' 'English WH' 'English WH' 'English WH' 'English WH'\n",
      " 'Mandarin WH' 'English WH' 'English WH' 'Mandarin Y/N' 'English WH'\n",
      " 'English WH' 'English WH' 'Mandarin Y/N' 'English Y/N' 'Mandarin WH'\n",
      " 'Mandarin Y/N' 'English WH' 'English WH' 'Mandarin WH' 'Mandarin WH'\n",
      " 'Mandarin Y/N' 'English WH' 'English WH' 'English WH' 'English WH'\n",
      " 'English WH' 'English WH' 'Mandarin WH' 'Mandarin WH' 'English WH'\n",
      " 'Mandarin WH' 'Mandarin WH' 'Mandarin Y/N' 'Mandarin Y/N' 'English WH'\n",
      " 'Mandarin WH' 'English Y/N' 'Mandarin WH' 'English WH' 'English WH'\n",
      " 'Mandarin Y/N' 'English WH' 'English WH' 'Mandarin WH' 'English WH'\n",
      " 'Mandarin WH' 'Mandarin WH' 'English WH' 'Mandarin WH' 'English Y/N'\n",
      " 'English Y/N' 'English WH' 'Mandarin WH' 'English WH' 'English WH'\n",
      " 'English Y/N' 'Mandarin WH' 'English Y/N' 'Mandarin WH' 'Mandarin WH'\n",
      " 'English Y/N' 'English WH' 'Mandarin WH' 'English WH' 'English WH'\n",
      " 'Mandarin WH' 'English WH' 'Mandarin WH' 'Mandarin WH' 'Mandarin WH'\n",
      " 'Mandarin WH' 'Mandarin Y/N' 'Mandarin WH' 'Mandarin Y/N' 'Mandarin WH'\n",
      " 'English WH' 'Mandarin Y/N' 'Mandarin WH' 'English Y/N' 'Mandarin WH'\n",
      " 'English WH' 'Mandarin WH' 'Mandarin WH' 'Mandarin Y/N' 'Mandarin WH'\n",
      " 'English WH' 'Mandarin WH' 'Mandarin WH' 'English WH' 'English WH'\n",
      " 'Mandarin WH' 'Mandarin WH' 'English WH' 'English WH' 'Mandarin Y/N'\n",
      " 'English WH' 'English WH' 'English WH' 'English WH' 'Mandarin Y/N'\n",
      " 'Mandarin Y/N' 'Mandarin WH' 'English WH' 'English WH' 'English WH'\n",
      " 'English Y/N' 'Mandarin WH' 'English WH' 'English WH' 'English WH'\n",
      " 'Mandarin WH' 'Mandarin Y/N' 'English WH' 'Mandarin Y/N' 'Mandarin Y/N'\n",
      " 'Mandarin WH' 'Mandarin Y/N' 'Mandarin WH' 'Mandarin WH' 'English WH'\n",
      " 'English WH' 'English WH' 'Mandarin WH' 'English WH' 'English WH'\n",
      " 'English WH' 'Mandarin WH' 'English WH' 'English WH' 'Mandarin WH'\n",
      " 'English WH' 'Mandarin Y/N' 'English Y/N' 'English WH' 'English WH'\n",
      " 'English WH' 'English Y/N' 'English WH' 'English WH' 'English WH'\n",
      " 'English WH' 'English WH' 'Mandarin WH' 'Mandarin WH' 'Mandarin Y/N'\n",
      " 'English WH' 'English WH' 'Mandarin WH' 'English WH' 'English WH'\n",
      " 'English WH' 'English Y/N' 'Mandarin WH' 'Mandarin WH' 'English WH'\n",
      " 'Mandarin Y/N' 'Mandarin WH' 'English Y/N' 'English WH' 'English Y/N'\n",
      " 'Mandarin WH' 'English WH' 'English WH' 'English WH' 'English WH'\n",
      " 'Mandarin Y/N' 'Mandarin Y/N' 'English WH' 'Mandarin WH' 'Mandarin Y/N'\n",
      " 'Mandarin Y/N' 'English WH' 'Mandarin WH' 'English WH' 'English WH'\n",
      " 'Mandarin Y/N' 'Mandarin WH' 'Mandarin WH' 'Mandarin WH' 'English Y/N'\n",
      " 'English WH' 'English WH' 'Mandarin Y/N' 'English WH' 'Mandarin WH'\n",
      " 'English WH' 'English WH' 'Mandarin WH' 'English WH' 'English WH'\n",
      " 'English WH' 'English WH' 'English WH' 'English WH' 'Mandarin WH'\n",
      " 'Mandarin WH' 'Mandarin WH' 'Mandarin Y/N' 'Mandarin Y/N' 'English WH'\n",
      " 'English WH' 'Mandarin WH' 'Mandarin WH' 'Mandarin Y/N' 'Mandarin WH'\n",
      " 'English Y/N' 'Mandarin WH' 'English WH' 'English WH' 'Mandarin Y/N'\n",
      " 'Mandarin WH' 'English WH' 'English WH' 'English WH' 'English WH'\n",
      " 'English WH' 'English WH' 'English WH' 'English WH' 'English WH'\n",
      " 'Mandarin WH' 'Mandarin WH' 'English WH' 'English WH' 'Mandarin Y/N'\n",
      " 'English Y/N']\n"
     ]
    }
   ],
   "source": [
    "#### BETTER THAN CROSS VALIDATION DONE THE OTHER WAY ##########\n",
    "########## UPDATE PARAMATERS BASED ON ABOVE ##########\n",
    "X_train, X_test, y_train, y_test = train_test_split(df_data, df_labels, random_state=0)\n",
    "\n",
    "#logreg = LogisticRegression().fit(X_train, y_train)\n",
    "#score = logreg.score(X_test, y_test)\n",
    "\n",
    "#classifier = linear_model.LogisticRegression()\n",
    "classifier = svm.LinearSVC(penalty=\"l2\", C=0.01, multi_class='ovr')\n",
    "classifier.fit(X_train, y_train)\n",
    "score = classifier.score(X_test, y_test)\n",
    "predicts = classifier.predict(X_test)\n",
    "\n",
    "print (score, predicts)"
   ]
  },
  {
   "cell_type": "code",
   "execution_count": 34,
   "metadata": {
    "collapsed": true
   },
   "outputs": [
    {
     "name": "stdout",
     "output_type": "stream",
     "text": [
      "0.3162393162393162 ['English Y/N' 'English WH' 'English WH' 'Mandarin Y/N' 'Mandarin Y/N'\n",
      " 'English WH' 'Mandarin Y/N' 'English WH' 'Mandarin Y/N' 'Mandarin WH'\n",
      " 'Mandarin WH' 'English WH' 'Mandarin Y/N' 'Mandarin WH' 'Mandarin WH'\n",
      " 'Mandarin Y/N' 'English Y/N' 'Mandarin Y/N' 'Mandarin Y/N' 'Mandarin Y/N'\n",
      " 'Mandarin WH' 'Mandarin WH' 'Mandarin WH' 'Mandarin WH' 'English WH'\n",
      " 'English Y/N' 'Mandarin WH' 'English WH' 'English Y/N' 'English WH'\n",
      " 'Mandarin Y/N' 'Mandarin Y/N' 'Mandarin Y/N' 'Mandarin Y/N' 'Mandarin WH'\n",
      " 'Mandarin Y/N' 'English WH' 'Mandarin Y/N' 'English WH' 'Mandarin Y/N'\n",
      " 'English WH' 'English WH' 'English WH' 'English WH' 'English Y/N'\n",
      " 'Mandarin WH' 'Mandarin Y/N' 'English WH' 'Mandarin WH' 'Mandarin Y/N'\n",
      " 'English WH' 'Mandarin WH' 'Mandarin Y/N' 'Mandarin Y/N' 'English WH'\n",
      " 'English WH' 'Mandarin Y/N' 'English WH' 'Mandarin WH' 'Mandarin WH'\n",
      " 'Mandarin WH' 'English WH' 'English WH' 'Mandarin Y/N' 'English WH'\n",
      " 'English WH' 'Mandarin Y/N' 'Mandarin Y/N' 'Mandarin Y/N' 'English WH'\n",
      " 'Mandarin WH' 'Mandarin Y/N' 'Mandarin WH' 'Mandarin Y/N' 'Mandarin Y/N'\n",
      " 'English WH' 'Mandarin Y/N' 'English WH' 'Mandarin Y/N' 'Mandarin WH'\n",
      " 'English WH' 'Mandarin Y/N' 'Mandarin Y/N' 'English WH' 'Mandarin Y/N'\n",
      " 'English WH' 'Mandarin WH' 'English WH' 'English WH' 'Mandarin Y/N'\n",
      " 'Mandarin Y/N' 'Mandarin WH' 'Mandarin WH' 'English WH' 'English WH'\n",
      " 'Mandarin WH' 'Mandarin Y/N' 'Mandarin Y/N' 'English WH' 'Mandarin Y/N'\n",
      " 'Mandarin WH' 'Mandarin WH' 'Mandarin Y/N' 'English WH' 'English WH'\n",
      " 'Mandarin Y/N' 'English WH' 'Mandarin WH' 'Mandarin Y/N' 'English WH'\n",
      " 'English WH' 'Mandarin Y/N' 'Mandarin WH' 'English WH' 'English WH'\n",
      " 'Mandarin WH' 'Mandarin Y/N' 'Mandarin Y/N' 'Mandarin Y/N' 'Mandarin Y/N'\n",
      " 'Mandarin Y/N' 'Mandarin Y/N' 'Mandarin WH' 'Mandarin Y/N' 'English WH'\n",
      " 'Mandarin Y/N' 'English Y/N' 'English WH' 'Mandarin Y/N' 'English WH'\n",
      " 'Mandarin WH' 'Mandarin Y/N' 'English WH' 'Mandarin Y/N' 'English WH'\n",
      " 'English WH' 'English WH' 'Mandarin Y/N' 'Mandarin Y/N' 'Mandarin WH'\n",
      " 'Mandarin Y/N' 'English WH' 'English WH' 'Mandarin WH' 'English WH'\n",
      " 'Mandarin WH' 'Mandarin Y/N' 'English Y/N' 'English WH' 'English WH'\n",
      " 'English Y/N' 'Mandarin Y/N' 'Mandarin Y/N' 'Mandarin WH' 'Mandarin WH'\n",
      " 'Mandarin Y/N' 'Mandarin Y/N' 'Mandarin WH' 'Mandarin Y/N' 'English WH'\n",
      " 'Mandarin Y/N' 'English Y/N' 'Mandarin Y/N' 'Mandarin Y/N' 'Mandarin WH'\n",
      " 'Mandarin WH' 'English WH' 'English WH' 'Mandarin WH' 'Mandarin WH'\n",
      " 'English WH' 'Mandarin WH' 'Mandarin Y/N' 'Mandarin WH' 'English Y/N'\n",
      " 'English Y/N' 'Mandarin Y/N' 'Mandarin WH' 'Mandarin Y/N' 'English Y/N'\n",
      " 'English Y/N' 'Mandarin WH' 'Mandarin Y/N' 'Mandarin Y/N' 'Mandarin Y/N'\n",
      " 'Mandarin WH' 'Mandarin Y/N' 'Mandarin Y/N' 'Mandarin WH' 'English WH'\n",
      " 'Mandarin Y/N' 'English WH' 'Mandarin WH' 'Mandarin Y/N' 'Mandarin Y/N'\n",
      " 'Mandarin WH' 'Mandarin Y/N' 'Mandarin WH' 'Mandarin WH' 'Mandarin WH'\n",
      " 'Mandarin Y/N' 'Mandarin Y/N' 'Mandarin Y/N' 'English Y/N' 'Mandarin Y/N'\n",
      " 'English WH' 'Mandarin Y/N' 'English Y/N' 'Mandarin Y/N' 'Mandarin WH'\n",
      " 'Mandarin Y/N' 'Mandarin WH' 'Mandarin Y/N' 'Mandarin WH' 'English WH'\n",
      " 'Mandarin Y/N' 'Mandarin Y/N' 'English WH' 'English WH' 'Mandarin Y/N'\n",
      " 'English WH' 'English Y/N' 'English WH' 'English WH' 'Mandarin WH'\n",
      " 'English Y/N' 'Mandarin WH' 'Mandarin Y/N' 'English WH' 'English Y/N'\n",
      " 'English Y/N' 'Mandarin Y/N' 'Mandarin Y/N' 'English WH' 'Mandarin Y/N'\n",
      " 'Mandarin Y/N' 'Mandarin WH' 'English WH' 'Mandarin Y/N' 'Mandarin Y/N'\n",
      " 'English WH' 'Mandarin Y/N' 'Mandarin Y/N' 'Mandarin WH' 'Mandarin WH'\n",
      " 'Mandarin Y/N' 'English WH' 'English Y/N' 'Mandarin WH' 'English WH'\n",
      " 'Mandarin Y/N' 'Mandarin Y/N' 'English WH' 'Mandarin Y/N' 'Mandarin Y/N'\n",
      " 'English WH' 'Mandarin Y/N' 'English Y/N' 'English WH' 'English WH'\n",
      " 'Mandarin WH' 'Mandarin WH' 'English WH' 'English Y/N' 'English WH'\n",
      " 'English WH' 'English WH' 'Mandarin WH' 'Mandarin WH' 'Mandarin WH'\n",
      " 'English WH' 'English WH' 'Mandarin WH' 'English WH' 'English WH'\n",
      " 'Mandarin Y/N' 'English Y/N' 'English WH' 'Mandarin Y/N' 'English WH'\n",
      " 'Mandarin Y/N' 'Mandarin Y/N' 'English Y/N' 'Mandarin WH' 'Mandarin Y/N'\n",
      " 'Mandarin Y/N' 'Mandarin WH' 'Mandarin Y/N' 'English WH' 'English WH'\n",
      " 'Mandarin Y/N' 'Mandarin WH' 'Mandarin Y/N' 'Mandarin WH' 'Mandarin WH'\n",
      " 'Mandarin Y/N' 'English Y/N' 'Mandarin Y/N' 'Mandarin Y/N' 'English WH'\n",
      " 'Mandarin Y/N' 'Mandarin WH' 'Mandarin Y/N' 'Mandarin Y/N' 'English Y/N'\n",
      " 'English WH' 'English WH' 'Mandarin Y/N' 'Mandarin Y/N' 'Mandarin Y/N'\n",
      " 'Mandarin Y/N' 'English WH' 'Mandarin Y/N' 'English WH' 'Mandarin Y/N'\n",
      " 'English WH' 'English WH' 'English WH' 'Mandarin WH' 'Mandarin Y/N'\n",
      " 'Mandarin Y/N' 'Mandarin Y/N' 'English Y/N' 'Mandarin Y/N' 'English WH'\n",
      " 'English WH' 'Mandarin Y/N' 'Mandarin Y/N' 'Mandarin Y/N' 'Mandarin Y/N'\n",
      " 'Mandarin Y/N' 'Mandarin Y/N' 'Mandarin WH' 'English WH' 'Mandarin WH'\n",
      " 'Mandarin WH' 'English Y/N' 'English WH' 'English WH' 'English Y/N'\n",
      " 'Mandarin Y/N' 'English Y/N' 'English WH' 'English WH' 'English WH'\n",
      " 'Mandarin Y/N' 'Mandarin Y/N' 'Mandarin Y/N' 'English WH' 'Mandarin Y/N'\n",
      " 'English Y/N']\n"
     ]
    },
    {
     "name": "stderr",
     "output_type": "stream",
     "text": [
      "C:\\Users\\Rachel\\AppData\\Local\\Continuum\\Anaconda2\\envs\\py36\\lib\\site-packages\\sklearn\\utils\\validation.py:526: DataConversionWarning: A column-vector y was passed when a 1d array was expected. Please change the shape of y to (n_samples, ), for example using ravel().\n",
      "  y = column_or_1d(y, warn=True)\n"
     ]
    }
   ],
   "source": [
    "####### Trying NaiveBayes just to see - it does worse, as I would have thought\n",
    "X_train, X_test, y_train, y_test = train_test_split(df_data, df_labels, random_state=0)\n",
    "\n",
    "classifier = GaussianNB()\n",
    "classifier.fit(X_train, y_train)\n",
    "score = classifier.score(X_test, y_test)\n",
    "predicts = classifier.predict(X_test)\n",
    "\n",
    "print (score, predicts)"
   ]
  },
  {
   "cell_type": "markdown",
   "metadata": {},
   "source": [
    "### In which we do some math for significance testing"
   ]
  },
  {
   "cell_type": "code",
   "execution_count": 35,
   "metadata": {
    "collapsed": true
   },
   "outputs": [
    {
     "data": {
      "text/plain": [
       "array(['English Y/N', 'English WH', 'English WH', 'Mandarin Y/N',\n",
       "       'Mandarin Y/N', 'English WH', 'Mandarin Y/N', 'English WH',\n",
       "       'Mandarin Y/N', 'Mandarin WH', 'Mandarin WH', 'English WH',\n",
       "       'Mandarin Y/N', 'Mandarin WH', 'Mandarin WH', 'Mandarin Y/N',\n",
       "       'English Y/N', 'Mandarin Y/N', 'Mandarin Y/N', 'Mandarin Y/N',\n",
       "       'Mandarin WH', 'Mandarin WH', 'Mandarin WH', 'Mandarin WH',\n",
       "       'English WH', 'English Y/N', 'Mandarin WH', 'English WH',\n",
       "       'English Y/N', 'English WH', 'Mandarin Y/N', 'Mandarin Y/N',\n",
       "       'Mandarin Y/N', 'Mandarin Y/N', 'Mandarin WH', 'Mandarin Y/N',\n",
       "       'English WH', 'Mandarin Y/N', 'English WH', 'Mandarin Y/N',\n",
       "       'English WH', 'English WH', 'English WH', 'English WH',\n",
       "       'English Y/N', 'Mandarin WH', 'Mandarin Y/N', 'English WH',\n",
       "       'Mandarin WH', 'Mandarin Y/N', 'English WH', 'Mandarin WH',\n",
       "       'Mandarin Y/N', 'Mandarin Y/N', 'English WH', 'English WH',\n",
       "       'Mandarin Y/N', 'English WH', 'Mandarin WH', 'Mandarin WH',\n",
       "       'Mandarin WH', 'English WH', 'English WH', 'Mandarin Y/N',\n",
       "       'English WH', 'English WH', 'Mandarin Y/N', 'Mandarin Y/N',\n",
       "       'Mandarin Y/N', 'English WH', 'Mandarin WH', 'Mandarin Y/N',\n",
       "       'Mandarin WH', 'Mandarin Y/N', 'Mandarin Y/N', 'English WH',\n",
       "       'Mandarin Y/N', 'English WH', 'Mandarin Y/N', 'Mandarin WH',\n",
       "       'English WH', 'Mandarin Y/N', 'Mandarin Y/N', 'English WH',\n",
       "       'Mandarin Y/N', 'English WH', 'Mandarin WH', 'English WH',\n",
       "       'English WH', 'Mandarin Y/N', 'Mandarin Y/N', 'Mandarin WH',\n",
       "       'Mandarin WH', 'English WH', 'English WH', 'Mandarin WH',\n",
       "       'Mandarin Y/N', 'Mandarin Y/N', 'English WH', 'Mandarin Y/N',\n",
       "       'Mandarin WH', 'Mandarin WH', 'Mandarin Y/N', 'English WH',\n",
       "       'English WH', 'Mandarin Y/N', 'English WH', 'Mandarin WH',\n",
       "       'Mandarin Y/N', 'English WH', 'English WH', 'Mandarin Y/N',\n",
       "       'Mandarin WH', 'English WH', 'English WH', 'Mandarin WH',\n",
       "       'Mandarin Y/N', 'Mandarin Y/N', 'Mandarin Y/N', 'Mandarin Y/N',\n",
       "       'Mandarin Y/N', 'Mandarin Y/N', 'Mandarin WH', 'Mandarin Y/N',\n",
       "       'English WH', 'Mandarin Y/N', 'English Y/N', 'English WH',\n",
       "       'Mandarin Y/N', 'English WH', 'Mandarin WH', 'Mandarin Y/N',\n",
       "       'English WH', 'Mandarin Y/N', 'English WH', 'English WH',\n",
       "       'English WH', 'Mandarin Y/N', 'Mandarin Y/N', 'Mandarin WH',\n",
       "       'Mandarin Y/N', 'English WH', 'English WH', 'Mandarin WH',\n",
       "       'English WH', 'Mandarin WH', 'Mandarin Y/N', 'English Y/N',\n",
       "       'English WH', 'English WH', 'English Y/N', 'Mandarin Y/N',\n",
       "       'Mandarin Y/N', 'Mandarin WH', 'Mandarin WH', 'Mandarin Y/N',\n",
       "       'Mandarin Y/N', 'Mandarin WH', 'Mandarin Y/N', 'English WH',\n",
       "       'Mandarin Y/N', 'English Y/N', 'Mandarin Y/N', 'Mandarin Y/N',\n",
       "       'Mandarin WH', 'Mandarin WH', 'English WH', 'English WH',\n",
       "       'Mandarin WH', 'Mandarin WH', 'English WH', 'Mandarin WH',\n",
       "       'Mandarin Y/N', 'Mandarin WH', 'English Y/N', 'English Y/N',\n",
       "       'Mandarin Y/N', 'Mandarin WH', 'Mandarin Y/N', 'English Y/N',\n",
       "       'English Y/N', 'Mandarin WH', 'Mandarin Y/N', 'Mandarin Y/N',\n",
       "       'Mandarin Y/N', 'Mandarin WH', 'Mandarin Y/N', 'Mandarin Y/N',\n",
       "       'Mandarin WH', 'English WH', 'Mandarin Y/N', 'English WH',\n",
       "       'Mandarin WH', 'Mandarin Y/N', 'Mandarin Y/N', 'Mandarin WH',\n",
       "       'Mandarin Y/N', 'Mandarin WH', 'Mandarin WH', 'Mandarin WH',\n",
       "       'Mandarin Y/N', 'Mandarin Y/N', 'Mandarin Y/N', 'English Y/N',\n",
       "       'Mandarin Y/N', 'English WH', 'Mandarin Y/N', 'English Y/N',\n",
       "       'Mandarin Y/N', 'Mandarin WH', 'Mandarin Y/N', 'Mandarin WH',\n",
       "       'Mandarin Y/N', 'Mandarin WH', 'English WH', 'Mandarin Y/N',\n",
       "       'Mandarin Y/N', 'English WH', 'English WH', 'Mandarin Y/N',\n",
       "       'English WH', 'English Y/N', 'English WH', 'English WH',\n",
       "       'Mandarin WH', 'English Y/N', 'Mandarin WH', 'Mandarin Y/N',\n",
       "       'English WH', 'English Y/N', 'English Y/N', 'Mandarin Y/N',\n",
       "       'Mandarin Y/N', 'English WH', 'Mandarin Y/N', 'Mandarin Y/N',\n",
       "       'Mandarin WH', 'English WH', 'Mandarin Y/N', 'Mandarin Y/N',\n",
       "       'English WH', 'Mandarin Y/N', 'Mandarin Y/N', 'Mandarin WH',\n",
       "       'Mandarin WH', 'Mandarin Y/N', 'English WH', 'English Y/N',\n",
       "       'Mandarin WH', 'English WH', 'Mandarin Y/N', 'Mandarin Y/N',\n",
       "       'English WH', 'Mandarin Y/N', 'Mandarin Y/N', 'English WH',\n",
       "       'Mandarin Y/N', 'English Y/N', 'English WH', 'English WH',\n",
       "       'Mandarin WH', 'Mandarin WH', 'English WH', 'English Y/N',\n",
       "       'English WH', 'English WH', 'English WH', 'Mandarin WH',\n",
       "       'Mandarin WH', 'Mandarin WH', 'English WH', 'English WH',\n",
       "       'Mandarin WH', 'English WH', 'English WH', 'Mandarin Y/N',\n",
       "       'English Y/N', 'English WH', 'Mandarin Y/N', 'English WH',\n",
       "       'Mandarin Y/N', 'Mandarin Y/N', 'English Y/N', 'Mandarin WH',\n",
       "       'Mandarin Y/N', 'Mandarin Y/N', 'Mandarin WH', 'Mandarin Y/N',\n",
       "       'English WH', 'English WH', 'Mandarin Y/N', 'Mandarin WH',\n",
       "       'Mandarin Y/N', 'Mandarin WH', 'Mandarin WH', 'Mandarin Y/N',\n",
       "       'English Y/N', 'Mandarin Y/N', 'Mandarin Y/N', 'English WH',\n",
       "       'Mandarin Y/N', 'Mandarin WH', 'Mandarin Y/N', 'Mandarin Y/N',\n",
       "       'English Y/N', 'English WH', 'English WH', 'Mandarin Y/N',\n",
       "       'Mandarin Y/N', 'Mandarin Y/N', 'Mandarin Y/N', 'English WH',\n",
       "       'Mandarin Y/N', 'English WH', 'Mandarin Y/N', 'English WH',\n",
       "       'English WH', 'English WH', 'Mandarin WH', 'Mandarin Y/N',\n",
       "       'Mandarin Y/N', 'Mandarin Y/N', 'English Y/N', 'Mandarin Y/N',\n",
       "       'English WH', 'English WH', 'Mandarin Y/N', 'Mandarin Y/N',\n",
       "       'Mandarin Y/N', 'Mandarin Y/N', 'Mandarin Y/N', 'Mandarin Y/N',\n",
       "       'Mandarin WH', 'English WH', 'Mandarin WH', 'Mandarin WH',\n",
       "       'English Y/N', 'English WH', 'English WH', 'English Y/N',\n",
       "       'Mandarin Y/N', 'English Y/N', 'English WH', 'English WH',\n",
       "       'English WH', 'Mandarin Y/N', 'Mandarin Y/N', 'Mandarin Y/N',\n",
       "       'English WH', 'Mandarin Y/N', 'English Y/N'], dtype='<U12')"
      ]
     },
     "execution_count": 35,
     "metadata": {},
     "output_type": "execute_result"
    }
   ],
   "source": [
    "predicts"
   ]
  },
  {
   "cell_type": "code",
   "execution_count": null,
   "metadata": {},
   "outputs": [],
   "source": []
  },
  {
   "cell_type": "code",
   "execution_count": null,
   "metadata": {},
   "outputs": [],
   "source": []
  },
  {
   "cell_type": "code",
   "execution_count": null,
   "metadata": {},
   "outputs": [],
   "source": [
    "df_coeff['label'] = df_labels"
   ]
  },
  {
   "cell_type": "code",
   "execution_count": null,
   "metadata": {},
   "outputs": [],
   "source": [
    "import matplotlib.pyplot as plt\n",
    "fig, (ax1, ax2) = plt.subplots(ncols=2, figsize=(15,5))\n",
    "df_coeff.groupby('label').mean().T.plot.bar(ax=ax1)\n",
    "df_coeff.groupby('label').std().T.plot.bar(ax=ax2)"
   ]
  },
  {
   "cell_type": "code",
   "execution_count": null,
   "metadata": {},
   "outputs": [],
   "source": [
    "fig, ax = plt.subplots(figsize=(20,10))\n",
    "_ = df_coeff.boxplot(by = 'label', ax=ax, layout = (2,4))"
   ]
  },
  {
   "cell_type": "code",
   "execution_count": null,
   "metadata": {},
   "outputs": [],
   "source": [
    "import seaborn as sns"
   ]
  },
  {
   "cell_type": "code",
   "execution_count": null,
   "metadata": {},
   "outputs": [],
   "source": [
    "fig, ax= plt.subplots(nrows=2, ncols=4, figsize=(20,10))\n",
    "axlist = ax.flatten()\n",
    "for i, l in enumerate(df_coeff.columns[0:7]):\n",
    "    _ = sns.boxplot(x=\"label\", y=l, data=df_coeff, ax=axlist[i])"
   ]
  },
  {
   "cell_type": "code",
   "execution_count": null,
   "metadata": {},
   "outputs": [],
   "source": []
  },
  {
   "cell_type": "code",
   "execution_count": null,
   "metadata": {},
   "outputs": [],
   "source": []
  }
 ],
 "metadata": {
  "kernelspec": {
   "display_name": "Python 3",
   "language": "python",
   "name": "python3"
  },
  "language_info": {
   "codemirror_mode": {
    "name": "ipython",
    "version": 3
   },
   "file_extension": ".py",
   "mimetype": "text/x-python",
   "name": "python",
   "nbconvert_exporter": "python",
   "pygments_lexer": "ipython3",
   "version": "3.6.1"
  }
 },
 "nbformat": 4,
 "nbformat_minor": 2
}
